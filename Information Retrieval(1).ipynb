{
 "cells": [
  {
   "cell_type": "code",
   "execution_count": 7,
   "metadata": {},
   "outputs": [],
   "source": [
    "import pandas as pd\n",
    "import numpy as np\n",
    "import requests\n",
    "import json\n",
    "import os\n",
    "from pyserini.search import SimpleSearcher\n",
    "from sklearn.metrics import ndcg_score\n",
    "import shlex\n",
    "import subprocess\n",
    "import sys\n",
    "import os.path\n",
    "from os import path\n",
    "import matplotlib.pyplot as plt"
   ]
  },
  {
   "cell_type": "code",
   "execution_count": null,
   "metadata": {},
   "outputs": [],
   "source": [
    "#%%capture\n",
    "#!pip install pyjnius\n",
    "#!java -version\n",
    "#from jnius import autoclass\n",
    "#import os\n",
    "#os.environ[\"JAVA_HOME\"] = \"/usr/lib/jvm/java-11-openjdk-amd64\"\n",
    "#JString = autoclass('java.lang.String')\n",
    "#JString('Hello world')\n",
    "\n",
    "#%%capture\n",
    "\n",
    "#!mkdir -p /usr/lib/jvm/java-1.11.0-openjdk-amd64/jre/lib/amd64/server/\n",
    "#!ln -s /usr/lib/jvm/java-1.11.0-openjdk-amd64/lib/server/libjvm.so /usr/lib/jvm/java-1.11.0-openjdk-amd64/jre/lib/amd64/server/libjvm.so"
   ]
  },
  {
   "cell_type": "code",
   "execution_count": 109,
   "metadata": {},
   "outputs": [],
   "source": [
    "#for i in qlist:\n",
    "#    if not os.path.exists('query_results_lm/'+i):\n",
    "#        os.makedirs('query_results_lm/'+i)"
   ]
  },
  {
   "cell_type": "code",
   "execution_count": 108,
   "metadata": {},
   "outputs": [
    {
     "data": {
      "text/plain": [
       "'for q in qlist:\\n    print(\"now writing results for: \" + q)\\n    req = requests.get(\"http://api.nordlys.cc/er?q=\"+q+\"&1st_num_docs=1000&model=lm\")\\n    if req.status_code != 200:\\n    # This means something went wrong.\\n        raise ApiError(\\'GET /tasks/ {}\\'.format(req.status_code))\\n    num_docs = 1000\\n    idlist = []\\n    for i in range(num_docs):\\n        getid = req.json()[\"results\"][str(i)][\"entity\"]\\n        idreq = requests.get(\"http://api.nordlys.cc/ec/lookup_id/\"+getid)\\n        if idreq.status_code != 200:\\n        # This means something went wrong.\\n            raise ApiError(\\'GET /tasks/ {}\\'.format(idreq.status_code))\\n        dump = idreq.json()\\n        writing_dict = {}\\n        writing_dict[\\'id\\'] = getid\\n        writing_dict[\\'contents\\'] = json.dumps(dump)\\n        dumpdict = json.dumps(writing_dict)\\n        with open(\\'query_results_lm/\\'+q+\\'/\\'+str(i)+\\'.json\\', \\'w\\') as out:\\n            out.write(dumpdict)\\n'"
      ]
     },
     "execution_count": 108,
     "metadata": {},
     "output_type": "execute_result"
    }
   ],
   "source": [
    "\"\"\"for q in qlist:\n",
    "    print(\"now writing results for: \" + q)\n",
    "    req = requests.get(\"http://api.nordlys.cc/er?q=\"+q+\"&1st_num_docs=1000&model=lm\")\n",
    "    if req.status_code != 200:\n",
    "    # This means something went wrong.\n",
    "        raise ApiError('GET /tasks/ {}'.format(req.status_code))\n",
    "    num_docs = 1000\n",
    "    idlist = []\n",
    "    for i in range(num_docs):\n",
    "        getid = req.json()[\"results\"][str(i)][\"entity\"]\n",
    "        idreq = requests.get(\"http://api.nordlys.cc/ec/lookup_id/\"+getid)\n",
    "        if idreq.status_code != 200:\n",
    "        # This means something went wrong.\n",
    "            raise ApiError('GET /tasks/ {}'.format(idreq.status_code))\n",
    "        dump = idreq.json()\n",
    "        writing_dict = {}\n",
    "        writing_dict['id'] = getid\n",
    "        writing_dict['contents'] = json.dumps(dump)\n",
    "        dumpdict = json.dumps(writing_dict)\n",
    "        with open('query_results_lm/'+q+'/'+str(i)+'.json', 'w') as out:\n",
    "            out.write(dumpdict)\n",
    "\"\"\""
   ]
  },
  {
   "cell_type": "code",
   "execution_count": null,
   "metadata": {},
   "outputs": [],
   "source": [
    "\"\"\"\n",
    "searcher = SimpleSearcher('test_query_results_lm/indexes_foodblog/')\n",
    "searcher.set_rm3(10, 10, 0.5)\n",
    "hits = searcher.search('hubble space telescope')\n",
    "\n",
    "\n",
    "df = pd.DataFrame(columns=['queryID','documentID','rank', 'score']) \n",
    "\n",
    "queryid = \"INEX_LD-20120122\"\n",
    "\n",
    "# Print the first 10 hits:\n",
    "for i in range(0, 10):\n",
    "    docid = hits[i].docid\n",
    "    rank = i+1\n",
    "    score = hits[i].score\n",
    "    df = df.append({'queryID': queryid, 'documentID' : docid, 'rank' : rank, 'score' : score}, ignore_index=True)\n",
    "\n",
    "qrels =  pd.read_csv('qrels-v2.txt', sep=\"\\t\", header=None)\n",
    "qrels.columns = [\"queryID\", \"Q0\", \"documentID\", \"relevance_assesment\"]\n",
    "qrels = qrels.drop('Q0', axis=1)\n",
    "\n",
    "query_ids = df.queryID.unique()\n",
    "\n",
    "for q in query_ids:\n",
    "    df_selection = df[df['queryID'] ==q]\n",
    "    qrels_selection = qrels[qrels['queryID'] == q]\n",
    "    qrels_selection = qrels_selection.drop('queryID', axis=1)\n",
    "    \n",
    "    true_label = qrels_selection['relevance_assesment'].sort_values(ascending=False) #, na_position='last'\n",
    "\n",
    "    result = pd.merge(df_selection, qrels_selection, on='documentID', how='left')\n",
    "    result['relevance_assesment'] = result['relevance_assesment'].fillna(0)\n",
    "\n",
    "# we predict some scores (relevance) for the answers\n",
    "list1 = result['relevance_assesment'].astype(int).tolist()\n",
    "scores = np.asarray([list1])\n",
    "\n",
    "# we have groud-truth relevance of some answers to a query:\n",
    "top_results = true_label[0:len(scores[0])].astype(int).tolist()\n",
    "true_relevance = np.asarray([top_results])\n",
    "\n",
    "\n",
    "print(true_relevance)\n",
    "print(scores)\n",
    "ndcg_score(true_relevance, scores)\n",
    "\"\"\""
   ]
  },
  {
   "cell_type": "code",
   "execution_count": 4,
   "metadata": {
    "scrolled": true
   },
   "outputs": [],
   "source": [
    "def calculate_score(fn_qrels='qrels-v2.txt', prediction=\"test_foodblog.txt\"):\n",
    "    cmd = \"trec_eval.9.0.4/trec_eval {judgement} {output} -m map -m recip_rank\".format(output=prediction, judgement=fn_qrels)\n",
    "    pargs = shlex.split(cmd)\n",
    "    p = subprocess.Popen(pargs, stdout=subprocess.PIPE, stderr=subprocess.PIPE)\n",
    "    pout, perr = p.communicate()\n",
    "  #  print(\"running {}\".format(cmd))\n",
    "    if sys.version_info[0] < 3:\n",
    "        lines = pout.split('\\n')\n",
    "    else:\n",
    "        lines = pout.split(b'\\n')\n",
    "    MAP = float(lines[0].strip().split()[-1])\n",
    "    MRR = float(lines[1].strip().split()[-1])\n",
    " #   print(\"MAP: {}\".format(MAP))\n",
    " #   print(\"MRR: {}\".format(MRR))\n",
    "    return MAP, MRR"
   ]
  },
  {
   "cell_type": "code",
   "execution_count": 10,
   "metadata": {},
   "outputs": [
    {
     "name": "stdout",
     "output_type": "stream",
     "text": [
      "total lenght queries:  467\n",
      "duplicates in querys:  ['Axis+powers+of+World+War+II']\n"
     ]
    }
   ],
   "source": [
    "queryfile = \"./queries-v2.txt\"\n",
    "qlist = []\n",
    "idlist = []\n",
    "\n",
    "with open(queryfile, 'r') as f:\n",
    "    for line in f:\n",
    "        sep = line.split(\"\\t\")\n",
    "        query = sep[1]\n",
    "        idlist.append(sep[0])\n",
    "        query = query.rstrip(\"\\n\")\n",
    "        #adding plus sign instead of space to append to queries\n",
    "        query = query.replace(\" \", \"+\")        \n",
    "        qlist.append(query)\n",
    "print('total lenght queries: ', len(qlist))\n",
    "\n",
    "for i, q in enumerate(qlist):\n",
    "    queryid = idlist[i]\n",
    "    if not path.exists(f'query_results_update/{q}/'):\n",
    "        print('query data is missing: ', f'query_results_update/{q}/')\n",
    "\n",
    "dupes = [x for n, x in enumerate(qlist) if x in qlist[:n]]\n",
    "print('duplicates in querys: ', dupes) # [[1], [3]]\n"
   ]
  },
  {
   "cell_type": "code",
   "execution_count": 88,
   "metadata": {},
   "outputs": [],
   "source": [
    "df = pd.DataFrame(columns=['queryID', 'Q0', 'documentID','rank', 'score', 'model']) \n",
    "q0 = \"Q0\"\n",
    "rm3 = 'lm'\n",
    "\n",
    "for i, q in enumerate(qlist):\n",
    "    queryid = idlist[i]\n",
    "    #print('query: ', f'index_query_results_lm/query_results_lm/{q}/')\n",
    "    if path.exists(f'index_query_results_lm/query_results_lm/{q}/'):\n",
    "        link = f'index_query_results_lm/query_results_lm/{q}/'\n",
    "        searcher = SimpleSearcher(link)\n",
    "        hits = searcher.search(q, 100)\n",
    "        for i in range(0, len(hits)):\n",
    "            docid = hits[i].docid\n",
    "            rank = i+1\n",
    "            score = hits[i].score\n",
    "            df = df.append({'queryID': queryid, 'Q0': q0, 'documentID' : docid, 'rank' : rank, 'score' : score, 'model': rm3}, ignore_index=True)\n",
    "            \n",
    "df.to_csv(r'lm_results.txt', header=None, index=None, sep=' ', mode='a')"
   ]
  },
  {
   "cell_type": "code",
   "execution_count": 86,
   "metadata": {},
   "outputs": [],
   "source": [
    "df = pd.DataFrame(columns=['queryID', 'Q0', 'documentID','rank', 'score', 'model']) \n",
    "q0 = \"Q0\"\n",
    "rm3 = 'bm25'\n",
    "\n",
    "for i, q in enumerate(qlist):\n",
    "    queryid = idlist[i]\n",
    "    #print('query: ', f'index_query_results_lm/query_results_lm/{q}/')\n",
    "    if path.exists(f'query_results_update/{q}/'):\n",
    "        link = f'query_results_update/{q}/'\n",
    "        searcher = SimpleSearcher(link)\n",
    "        searcher.set_bm25(1.2, 0.8)\n",
    "        hits = searcher.search(q, 100)\n",
    "        for i in range(0, len(hits)):\n",
    "            docid = hits[i].docid\n",
    "            rank = i+1\n",
    "            score = hits[i].score\n",
    "            df = df.append({'queryID': queryid, 'Q0': q0, 'documentID' : docid, 'rank' : rank, 'score' : score, 'model': rm3}, ignore_index=True)\n",
    "            \n",
    "df.to_csv(r'bm25_results.txt', header=None, index=None, sep=' ', mode='a')"
   ]
  },
  {
   "cell_type": "code",
   "execution_count": 87,
   "metadata": {},
   "outputs": [],
   "source": [
    "df = pd.DataFrame(columns=['queryID', 'Q0', 'documentID','rank', 'score', 'model']) \n",
    "q0 = \"Q0\"\n",
    "rm3 = 'rm3'\n",
    "\n",
    "for i, q in enumerate(qlist):\n",
    "    queryid = idlist[i]\n",
    "    #print('query: ', f'index_query_results_lm/query_results_lm/{q}/')\n",
    "    if path.exists(f'query_results_update/{q}/'):\n",
    "        link = f'query_results_update/{q}/'\n",
    "        searcher = SimpleSearcher(link)\n",
    "        searcher.set_rm3(10, 10, 0.5)\n",
    "        hits = searcher.search(q, 100)\n",
    "        for i in range(0, len(hits)):\n",
    "            docid = hits[i].docid\n",
    "            rank = i+1\n",
    "            score = hits[i].score\n",
    "            df = df.append({'queryID': queryid, 'Q0': q0, 'documentID' : docid, 'rank' : rank, 'score' : score, 'model': rm3}, ignore_index=True)\n",
    "            \n",
    "df.to_csv(r'rm3_results.txt', header=None, index=None, sep=' ', mode='a')\n"
   ]
  },
  {
   "cell_type": "code",
   "execution_count": 11,
   "metadata": {},
   "outputs": [],
   "source": [
    "df = pd.DataFrame(columns=['queryID', 'Q0', 'documentID','rank', 'score', 'model']) \n",
    "q0 = \"Q0\"\n",
    "rm3 = 'bm25+rm3'\n",
    "\n",
    "for i, q in enumerate(qlist):\n",
    "    queryid = idlist[i]\n",
    "    #print('query: ', f'index_query_results_lm/query_results_lm/{q}/')\n",
    "    if path.exists(f'query_results_update/{q}/'):\n",
    "        link = f'query_results_update/{q}/'\n",
    "        searcher = SimpleSearcher(link)\n",
    "        searcher.set_bm25(1.2, 0.8)\n",
    "        searcher.set_rm3(10, 10, 0.5)\n",
    "        hits = searcher.search(q, 100)\n",
    "        for i in range(0, len(hits)):\n",
    "            docid = hits[i].docid\n",
    "            rank = i+1\n",
    "            score = hits[i].score\n",
    "            df = df.append({'queryID': queryid, 'Q0': q0, 'documentID' : docid, 'rank' : rank, 'score' : score, 'model': rm3}, ignore_index=True)\n",
    "            \n",
    "df.to_csv(r'bm25+rm3_results.txt', header=None, index=None, sep=' ', mode='a')\n"
   ]
  },
  {
   "cell_type": "code",
   "execution_count": 32,
   "metadata": {},
   "outputs": [
    {
     "name": "stdout",
     "output_type": "stream",
     "text": [
      "      MAP     MMR      type\n",
      "0  0.2018  0.5075        lm\n",
      "1  0.1763  0.4657      bm25\n",
      "2  0.1384  0.3867    lm+rm3\n",
      "3  0.1319  0.3833  bm25+rm3\n"
     ]
    }
   ],
   "source": [
    "df_results = pd.DataFrame(columns=['MAP', 'MMR', 'type'])\n",
    "\n",
    "MAP, MMR = calculate_score(prediction = 'lm_results.txt')\n",
    "df_results = df_results.append({'MAP': MAP, 'MMR': MMR, 'type':'lm'}, ignore_index=True)\n",
    "MAP, MMR = calculate_score(prediction = 'bm25_results.txt')\n",
    "df_results = df_results.append({'MAP': MAP, 'MMR': MMR, 'type':'bm25'}, ignore_index=True)\n",
    "MAP, MMR = calculate_score(prediction = 'rm3_results.txt')\n",
    "df_results = df_results.append({'MAP': MAP, 'MMR': MMR, 'type':'lm+rm3'}, ignore_index=True)\n",
    "MAP, MMR = calculate_score(prediction = 'bm25+rm3_results.txt')\n",
    "df_results = df_results.append({'MAP': MAP, 'MMR': MMR, 'type':'bm25+rm3'}, ignore_index=True)\n",
    "\n",
    "print(df_results)"
   ]
  },
  {
   "cell_type": "code",
   "execution_count": 2,
   "metadata": {},
   "outputs": [],
   "source": [
    "def get_results_per_category(file, method):\n",
    "    df = pd.read_csv(file, sep=' ')\n",
    "    df.columns = ['queryID', 'Q0', 'documentID','rank', 'score', 'model']\n",
    "\n",
    "    semsearch = df[df['queryID'].str.contains(\"SemSearch_ES\")]\n",
    "    inex_ld = df[df['queryID'].str.contains(\"INEX\")]\n",
    "    listsearch = df[df['queryID'].str.contains(\"TREC|SemSearch_LS|INEX_XER\")]\n",
    "    quald = df[df['queryID'].str.contains(\"QALD2\")]\n",
    "\n",
    "   # print('SemSearch should be 113 :', len(np.unique(semsearch['queryID'])))\n",
    "   # print('INEX-LD should be 99 :', len(np.unique(inex_ld['queryID'])))\n",
    "   # print('ListSearch should be 115 :', len(np.unique(listsearch['queryID'])))\n",
    "   # print('QALD-2 should be 140 :', len(np.unique(quald['queryID'])))\n",
    "\n",
    "    semsearch.to_csv(f'{method}_Semsearch_results.txt', header=None, index=None, sep=' ')\n",
    "    inex_ld.to_csv(f'{method}_INEx_LD_results.txt', header=None, index=None, sep=' ')\n",
    "    listsearch.to_csv(f'{method}_ListSearch_results.txt', header=None, index=None, sep=' ')\n",
    "    quald.to_csv(f'{method}_quald_results.txt', header=None, index=None, sep=' ')\n",
    "\n",
    "    df_output = pd.DataFrame(columns=[f'MAP_{method}', f'MMR_{method}', 'type'])\n",
    "\n",
    "    MAP, MMR = calculate_score(prediction = f'{method}_Semsearch_results.txt')\n",
    "    df_output = df_output.append({f'MAP_{method}': MAP, f'MMR_{method}': MMR, 'type':'SemSearch'}, ignore_index=True)\n",
    "    MAP, MMR = calculate_score(prediction = f'{method}_INEx_LD_results.txt')\n",
    "    df_output = df_output.append({f'MAP_{method}': MAP, f'MMR_{method}': MMR, 'type':'INEX'}, ignore_index=True)\n",
    "    MAP, MMR = calculate_score(prediction = f'{method}_ListSearch_results.txt')\n",
    "    df_output = df_output.append({f'MAP_{method}': MAP, f'MMR_{method}': MMR, 'type':'ListSearch'}, ignore_index=True)\n",
    "    MAP, MMR = calculate_score(prediction = f'{method}_quald_results.txt')\n",
    "    df_output = df_output.append({f'MAP_{method}': MAP, f'MMR_{method}': MMR, 'type':'quald'}, ignore_index=True)\n",
    "    \n",
    "    return df_output\n"
   ]
  },
  {
   "cell_type": "code",
   "execution_count": 13,
   "metadata": {},
   "outputs": [
    {
     "name": "stdout",
     "output_type": "stream",
     "text": [
      "   MAP_lm  MMR_lm        type  MAP_bm25  MMR_bm25  MAP_lm+rm3  MMR_lm+rm3  \\\n",
      "0  0.3896  0.7343   SemSearch    0.3610    0.6910      0.2231      0.4852   \n",
      "1  0.1550  0.5393        INEX    0.1325    0.4756      0.1142      0.4138   \n",
      "2  0.1698  0.5924  ListSearch    0.1479    0.5295      0.1497      0.4771   \n",
      "3  0.0908  0.2787       quald    0.0820    0.2519      0.0829      0.2404   \n",
      "\n",
      "   MAP_bm25+rm3  MMR_bm25+rm3  \n",
      "0        0.2180        0.4989  \n",
      "1        0.1057        0.3995  \n",
      "2        0.1380        0.4649  \n",
      "3        0.0799        0.2361  \n"
     ]
    }
   ],
   "source": [
    "lm = get_results_per_category('lm_results.txt', 'lm')\n",
    "bm25 = get_results_per_category('bm25_results.txt', 'bm25')\n",
    "lm_rm3 = get_results_per_category('rm3_results.txt', 'lm+rm3')\n",
    "bm25_rm3 = get_results_per_category('bm25+rm3_results.txt', 'bm25+rm3')\n",
    "\n",
    "\n",
    "result = pd.merge(lm, bm25, on='type', how='left')\n",
    "result = pd.merge(result, lm_rm3, on='type', how='left')\n",
    "result = pd.merge(result, bm25_rm3, on='type', how='left')\n",
    "\n",
    "print(result)\n"
   ]
  },
  {
   "cell_type": "code",
   "execution_count": 31,
   "metadata": {},
   "outputs": [
    {
     "data": {
      "image/png": "[encoded data removed]",
      "text/plain": [
       "<Figure size 432x288 with 1 Axes>"
      ]
     },
     "metadata": {
      "needs_background": "light"
     },
     "output_type": "display_data"
    }
   ],
   "source": [
    "labels = ['SemSearch ES', 'INEX-LD', 'ListSearch', 'QALD-2']\n",
    "\n",
    "data = [result['MAP_lm'].values,\n",
    "result['MAP_bm25'].values,\n",
    "result['MAP_lm+rm3'].values,\n",
    "result['MAP_bm25+rm3']]\n",
    "X = np.arange(4)\n",
    "\n",
    "\n",
    "x = np.arange(len(labels))  # the label locations\n",
    "x = x + 0.3\n",
    "\n",
    "fig, ax = plt.subplots()\n",
    "rects1 = ax.bar(X + 0.00, data[0], width = 0.2, label='LM')\n",
    "rects2 = ax.bar(X + 0.2, data[1], width = 0.2, label='BM25')\n",
    "rects3 = ax.bar(X + 0.40, data[2], width = 0.2, label = 'LM + RM3')\n",
    "rects4 = ax.bar(X + 0.6, data[3], width = 0.2, label = 'BM25 + RM3')\n",
    "\n",
    "\n",
    "# Add some text for labels, title and custom x-axis tick labels, etc.\n",
    "ax.set_ylabel('MAP score')\n",
    "ax.set_title('Scores by query category and ranking method ')\n",
    "ax.set_xticks(x)\n",
    "ax.set_xticklabels(labels)\n",
    "ax.legend()\n",
    "\n",
    "\n",
    "def autolabel(rects):\n",
    "    \"\"\"Attach a text label above each bar in *rects*, displaying its height.\"\"\"\n",
    "    for rect in rects:\n",
    "        height = rect.get_height()\n",
    "        ax.annotate('{}'.format(height),\n",
    "                    xy=(rect.get_x() + rect.get_width() / 3, height),\n",
    "                    xytext=(0, 3),  # 3 points vertical offset\n",
    "                    textcoords=\"offset points\",\n",
    "                    rotation=90,\n",
    "                    ha='center', va='bottom')\n",
    "\n",
    "\n",
    "autolabel(rects1)\n",
    "autolabel(rects2)\n",
    "autolabel(rects3)\n",
    "autolabel(rects4)\n",
    "\n",
    "\n",
    "fig.tight_layout()\n",
    "\n",
    "plt.show()\n"
   ]
  },
  {
   "cell_type": "code",
   "execution_count": null,
   "metadata": {},
   "outputs": [],
   "source": []
  }
 ],
 "metadata": {
  "kernelspec": {
   "display_name": "Python 3",
   "language": "python",
   "name": "python3"
  },
  "language_info": {
   "codemirror_mode": {
    "name": "ipython",
    "version": 3
   },
   "file_extension": ".py",
   "mimetype": "text/x-python",
   "name": "python",
   "nbconvert_exporter": "python",
   "pygments_lexer": "ipython3",
   "version": "3.8.5"
  }
 },
 "nbformat": 4,
 "nbformat_minor": 4
}
